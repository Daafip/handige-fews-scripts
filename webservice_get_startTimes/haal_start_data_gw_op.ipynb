{
 "cells": [
  {
   "cell_type": "markdown",
   "id": "da487f21",
   "metadata": {},
   "source": [
    "Ophalen van startdatum van grondwater data"
   ]
  },
  {
   "cell_type": "code",
   "execution_count": null,
   "id": "ed6ab27a",
   "metadata": {},
   "outputs": [],
   "source": [
    "# Hier gebruik ik de url van de standalone webservice \n",
    "# Te vinden in het f12 menu -> m -> start embeded tomcat service\n",
    "base_url = \"http://localhost:8080/FewsWebServices/rest/fewspiservice/v1/\" "
   ]
  },
  {
   "cell_type": "code",
   "execution_count": null,
   "id": "d2f575e8",
   "metadata": {},
   "outputs": [],
   "source": [
    "endpoint = \"timeseries?\"\n",
    "\n",
    "# pas waar nodig aan\n",
    "params = dict(\n",
    "    filterId=\"grondwater_ruw\",\n",
    "    parameterIds=\"Stijghoogte.ongevalideerd\",\n",
    "    locationIds=\"B45C1081\", # om te testen met 1 locatie\n",
    "    startTime=\"1990-01-01T00:00:00Z\",\n",
    "    endTime=\"2025-01-01T00:00:00Z\",\n",
    "    onlyHeaders=\"true\",\n",
    "    showStatistics=\"true\",\n",
    "    documentFormat=\"PI_JSON\"\n",
    ")"
   ]
  },
  {
   "cell_type": "code",
   "execution_count": null,
   "id": "a8b35104",
   "metadata": {},
   "outputs": [],
   "source": [
    "import requests\n",
    "url = base_url + endpoint\n",
    "res = requests.get(url, params=params)"
   ]
  },
  {
   "cell_type": "code",
   "execution_count": 4,
   "id": "16d28127",
   "metadata": {},
   "outputs": [
    {
     "data": {
      "text/plain": [
       "{'version': '1.34',\n",
       " 'timeZone': '0.0',\n",
       " 'timeSeries': [{'header': {'type': 'instantaneous',\n",
       "    'moduleInstanceId': 'ImportKeller',\n",
       "    'locationId': 'B45C1081',\n",
       "    'parameterId': 'Stijghoogte.ongevalideerd',\n",
       "    'timeStep': {'unit': 'second', 'multiplier': '3600'},\n",
       "    'startDate': {'date': '1990-01-01', 'time': '00:00:00'},\n",
       "    'endDate': {'date': '2025-01-01', 'time': '00:00:00'},\n",
       "    'missVal': '-999.0',\n",
       "    'stationName': 'Haa_3017_01',\n",
       "    'lat': '51.60541326356878',\n",
       "    'lon': '5.176536036944744',\n",
       "    'x': '140406.0',\n",
       "    'y': '401857.0',\n",
       "    'z': '0.0',\n",
       "    'units': 'm NAP',\n",
       "    'firstValueTime': {'date': '2010-03-10', 'time': '15:00:00'},\n",
       "    'lastValueTime': {'date': '2025-01-01', 'time': '00:00:00'},\n",
       "    'maxValue': '8.674',\n",
       "    'minValue': '4.805',\n",
       "    'valueCount': '120002'}}]}"
      ]
     },
     "execution_count": 4,
     "metadata": {},
     "output_type": "execute_result"
    }
   ],
   "source": [
    "data = res.json()\n",
    "data"
   ]
  },
  {
   "cell_type": "code",
   "execution_count": 5,
   "id": "c0b861ff",
   "metadata": {},
   "outputs": [],
   "source": [
    "# voor als je de bovenste cellen niet kan runnen, hier alsnog de data\n",
    "import json\n",
    "with open('data.json','w')as f_out:\n",
    "    f_out.write(json.dumps(data,indent=4))\n",
    "\n",
    "with open('data.json','r')as f_in:\n",
    "    data = json.load(f_in)"
   ]
  },
  {
   "cell_type": "code",
   "execution_count": 6,
   "id": "7f72be28",
   "metadata": {},
   "outputs": [],
   "source": [
    "import pandas as pd\n",
    "df = pd.json_normalize(data['timeSeries'],sep=\"_\")\n",
    "cols = df.columns\n",
    "df.rename(columns=dict(zip(cols,('_'.join(col.split('_')[1:]) for col in cols))), inplace=True)\n",
    "df = df.drop(columns=['type', 'moduleInstanceId', 'timeStep_unit', 'timeStep_multiplier', 'startDate_date',\n",
    "       'startDate_time', 'endDate_date', 'endDate_time', 'missVal', 'units', 'lat', 'lon', \n",
    "       'lastValueTime_date', 'lastValueTime_time' # zelfde als lastvalue\n",
    "       ])\n",
    "\n",
    "df_sub = df.dropna(subset=\"firstValueTime_date\").copy()\n",
    "df_sub['firstValueTime'] = df_sub.apply(lambda x: pd.Timestamp(str(x.firstValueTime_date) +\" \"+ str(x.firstValueTime_time)),axis=1)\n",
    "df_sub = df_sub.drop(columns=['firstValueTime_date', 'firstValueTime_time'])"
   ]
  },
  {
   "cell_type": "code",
   "execution_count": 7,
   "id": "992e2034",
   "metadata": {},
   "outputs": [],
   "source": [
    "df_sub.to_csv(\"data_output_nl.csv\",sep=\";\",decimal=',')\n",
    "df_sub.to_csv(\"data_output.csv\")"
   ]
  }
 ],
 "metadata": {
  "kernelspec": {
   "display_name": "geo",
   "language": "python",
   "name": "python3"
  },
  "language_info": {
   "codemirror_mode": {
    "name": "ipython",
    "version": 3
   },
   "file_extension": ".py",
   "mimetype": "text/x-python",
   "name": "python",
   "nbconvert_exporter": "python",
   "pygments_lexer": "ipython3",
   "version": "3.12.7"
  }
 },
 "nbformat": 4,
 "nbformat_minor": 5
}
