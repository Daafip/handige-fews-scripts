{
 "cells": [
  {
   "cell_type": "markdown",
   "metadata": {},
   "source": [
    "When importing a ensemble, it can be easier to use a table "
   ]
  },
  {
   "cell_type": "code",
   "execution_count": 8,
   "metadata": {},
   "outputs": [],
   "source": [
    "var = \"HEAD\"\n",
    "parameter = \"GW.M\"\n",
    "name_columns = f\"{var}_layer_\""
   ]
  },
  {
   "cell_type": "code",
   "execution_count": 15,
   "metadata": {},
   "outputs": [],
   "source": [
    "table_line_i = \"\"\n",
    "for i in range(37):\n",
    "    table_line_i+= f'\t\t\t\t<valueColumn parameterId=\"{parameter}\" name=\"{name_columns}{i}\" unit=\"m\" ensembleMemberIndex=\"{i}\"/>\\n'"
   ]
  },
  {
   "cell_type": "code",
   "execution_count": 16,
   "metadata": {},
   "outputs": [
    {
     "name": "stdout",
     "output_type": "stream",
     "text": [
      "    \t\t<table>\n",
      "\t\t\t\t<valueColumn parameterId=\"GW.M\" name=\"HEAD_layer_0\" unit=\"m\" ensembleMemberIndex=\"0\"/>\n",
      "\t\t\t\t<valueColumn parameterId=\"GW.M\" name=\"HEAD_layer_1\" unit=\"m\" ensembleMemberIndex=\"1\"/>\n",
      "\t\t\t\t<valueColumn parameterId=\"GW.M\" name=\"HEAD_layer_2\" unit=\"m\" ensembleMemberIndex=\"2\"/>\n",
      "\t\t\t\t<valueColumn parameterId=\"GW.M\" name=\"HEAD_layer_3\" unit=\"m\" ensembleMemberIndex=\"3\"/>\n",
      "\t\t\t\t<valueColumn parameterId=\"GW.M\" name=\"HEAD_layer_4\" unit=\"m\" ensembleMemberIndex=\"4\"/>\n",
      "\t\t\t\t<valueColumn parameterId=\"GW.M\" name=\"HEAD_layer_5\" unit=\"m\" ensembleMemberIndex=\"5\"/>\n",
      "\t\t\t\t<valueColumn parameterId=\"GW.M\" name=\"HEAD_layer_6\" unit=\"m\" ensembleMemberIndex=\"6\"/>\n",
      "\t\t\t\t<valueColumn parameterId=\"GW.M\" name=\"HEAD_layer_7\" unit=\"m\" ensembleMemberIndex=\"7\"/>\n",
      "\t\t\t\t<valueColumn parameterId=\"GW.M\" name=\"HEAD_layer_8\" unit=\"m\" ensembleMemberIndex=\"8\"/>\n",
      "\t\t\t\t<valueColumn parameterId=\"GW.M\" name=\"HEAD_layer_9\" unit=\"m\" ensembleMemberIndex=\"9\"/>\n",
      "\t\t\t\t<valueColumn parameterId=\"GW.M\" name=\"HEAD_layer_10\" unit=\"m\" ensembleMemberIndex=\"10\"/>\n",
      "\t\t\t\t<valueColumn parameterId=\"GW.M\" name=\"HEAD_layer_11\" unit=\"m\" ensembleMemberIndex=\"11\"/>\n",
      "\t\t\t\t<valueColumn parameterId=\"GW.M\" name=\"HEAD_layer_12\" unit=\"m\" ensembleMemberIndex=\"12\"/>\n",
      "\t\t\t\t<valueColumn parameterId=\"GW.M\" name=\"HEAD_layer_13\" unit=\"m\" ensembleMemberIndex=\"13\"/>\n",
      "\t\t\t\t<valueColumn parameterId=\"GW.M\" name=\"HEAD_layer_14\" unit=\"m\" ensembleMemberIndex=\"14\"/>\n",
      "\t\t\t\t<valueColumn parameterId=\"GW.M\" name=\"HEAD_layer_15\" unit=\"m\" ensembleMemberIndex=\"15\"/>\n",
      "\t\t\t\t<valueColumn parameterId=\"GW.M\" name=\"HEAD_layer_16\" unit=\"m\" ensembleMemberIndex=\"16\"/>\n",
      "\t\t\t\t<valueColumn parameterId=\"GW.M\" name=\"HEAD_layer_17\" unit=\"m\" ensembleMemberIndex=\"17\"/>\n",
      "\t\t\t\t<valueColumn parameterId=\"GW.M\" name=\"HEAD_layer_18\" unit=\"m\" ensembleMemberIndex=\"18\"/>\n",
      "\t\t\t\t<valueColumn parameterId=\"GW.M\" name=\"HEAD_layer_19\" unit=\"m\" ensembleMemberIndex=\"19\"/>\n",
      "\t\t\t\t<valueColumn parameterId=\"GW.M\" name=\"HEAD_layer_20\" unit=\"m\" ensembleMemberIndex=\"20\"/>\n",
      "\t\t\t\t<valueColumn parameterId=\"GW.M\" name=\"HEAD_layer_21\" unit=\"m\" ensembleMemberIndex=\"21\"/>\n",
      "\t\t\t\t<valueColumn parameterId=\"GW.M\" name=\"HEAD_layer_22\" unit=\"m\" ensembleMemberIndex=\"22\"/>\n",
      "\t\t\t\t<valueColumn parameterId=\"GW.M\" name=\"HEAD_layer_23\" unit=\"m\" ensembleMemberIndex=\"23\"/>\n",
      "\t\t\t\t<valueColumn parameterId=\"GW.M\" name=\"HEAD_layer_24\" unit=\"m\" ensembleMemberIndex=\"24\"/>\n",
      "\t\t\t\t<valueColumn parameterId=\"GW.M\" name=\"HEAD_layer_25\" unit=\"m\" ensembleMemberIndex=\"25\"/>\n",
      "\t\t\t\t<valueColumn parameterId=\"GW.M\" name=\"HEAD_layer_26\" unit=\"m\" ensembleMemberIndex=\"26\"/>\n",
      "\t\t\t\t<valueColumn parameterId=\"GW.M\" name=\"HEAD_layer_27\" unit=\"m\" ensembleMemberIndex=\"27\"/>\n",
      "\t\t\t\t<valueColumn parameterId=\"GW.M\" name=\"HEAD_layer_28\" unit=\"m\" ensembleMemberIndex=\"28\"/>\n",
      "\t\t\t\t<valueColumn parameterId=\"GW.M\" name=\"HEAD_layer_29\" unit=\"m\" ensembleMemberIndex=\"29\"/>\n",
      "\t\t\t\t<valueColumn parameterId=\"GW.M\" name=\"HEAD_layer_30\" unit=\"m\" ensembleMemberIndex=\"30\"/>\n",
      "\t\t\t\t<valueColumn parameterId=\"GW.M\" name=\"HEAD_layer_31\" unit=\"m\" ensembleMemberIndex=\"31\"/>\n",
      "\t\t\t\t<valueColumn parameterId=\"GW.M\" name=\"HEAD_layer_32\" unit=\"m\" ensembleMemberIndex=\"32\"/>\n",
      "\t\t\t\t<valueColumn parameterId=\"GW.M\" name=\"HEAD_layer_33\" unit=\"m\" ensembleMemberIndex=\"33\"/>\n",
      "\t\t\t\t<valueColumn parameterId=\"GW.M\" name=\"HEAD_layer_34\" unit=\"m\" ensembleMemberIndex=\"34\"/>\n",
      "\t\t\t\t<valueColumn parameterId=\"GW.M\" name=\"HEAD_layer_35\" unit=\"m\" ensembleMemberIndex=\"35\"/>\n",
      "\t\t\t\t<valueColumn parameterId=\"GW.M\" name=\"HEAD_layer_36\" unit=\"m\" ensembleMemberIndex=\"36\"/>\n",
      "\n",
      "\t\t\t</table>\n",
      "\n"
     ]
    }
   ],
   "source": [
    "data = f'''\\\n",
    "    \t\t<table>\\n\\\n",
    "{table_line_i}\n",
    "\t\t\t</table>\\n\\\n",
    "'''\n",
    "print(data)"
   ]
  },
  {
   "cell_type": "code",
   "execution_count": null,
   "metadata": {},
   "outputs": [],
   "source": []
  }
 ],
 "metadata": {
  "kernelspec": {
   "display_name": "Python 3",
   "language": "python",
   "name": "python3"
  },
  "language_info": {
   "codemirror_mode": {
    "name": "ipython",
    "version": 3
   },
   "file_extension": ".py",
   "mimetype": "text/x-python",
   "name": "python",
   "nbconvert_exporter": "python",
   "pygments_lexer": "ipython3",
   "version": "3.11.8"
  }
 },
 "nbformat": 4,
 "nbformat_minor": 2
}
