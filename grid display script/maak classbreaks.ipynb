{
 "cells": [
  {
   "cell_type": "code",
   "execution_count": 2,
   "metadata": {},
   "outputs": [],
   "source": [
    "import numpy as np"
   ]
  },
  {
   "cell_type": "code",
   "execution_count": 6,
   "metadata": {},
   "outputs": [
    {
     "name": "stdout",
     "output_type": "stream",
     "text": [
      "<lowerValue>0.00</lowerValue>\n",
      "<lowerValue>0.10</lowerValue>\n",
      "<lowerValue>0.20</lowerValue>\n",
      "<lowerValue>0.30</lowerValue>\n",
      "<lowerValue>0.40</lowerValue>\n",
      "<lowerValue>0.50</lowerValue>\n",
      "<lowerValue>0.60</lowerValue>\n",
      "<lowerValue>0.70</lowerValue>\n",
      "<lowerValue>0.80</lowerValue>\n",
      "<lowerValue>0.90</lowerValue>\n",
      "<lowerValue>1.00</lowerValue>\n",
      "<lowerValue>1.10</lowerValue>\n",
      "<lowerValue>1.20</lowerValue>\n",
      "<lowerValue>1.30</lowerValue>\n",
      "<lowerValue>1.40</lowerValue>\n",
      "<lowerValue>1.50</lowerValue>\n",
      "<lowerValue>1.60</lowerValue>\n",
      "<lowerValue>1.70</lowerValue>\n",
      "<lowerValue>1.80</lowerValue>\n",
      "<lowerValue>1.90</lowerValue>\n",
      "<lowerValue>2.00</lowerValue>\n",
      "<lowerValue>2.10</lowerValue>\n",
      "<lowerValue>2.20</lowerValue>\n",
      "<lowerValue>2.30</lowerValue>\n",
      "<lowerValue>2.40</lowerValue>\n",
      "<lowerValue>2.50</lowerValue>\n",
      "<lowerValue>2.60</lowerValue>\n",
      "<lowerValue>2.70</lowerValue>\n",
      "<lowerValue>2.80</lowerValue>\n",
      "<lowerValue>2.90</lowerValue>\n"
     ]
    }
   ],
   "source": [
    "for i in np.arange(0,3,0.1):\n",
    "    print(f'<lowerValue>{i:.2f}</lowerValue>')"
   ]
  },
  {
   "cell_type": "code",
   "execution_count": null,
   "metadata": {},
   "outputs": [],
   "source": []
  }
 ],
 "metadata": {
  "kernelspec": {
   "display_name": "base",
   "language": "python",
   "name": "python3"
  },
  "language_info": {
   "codemirror_mode": {
    "name": "ipython",
    "version": 3
   },
   "file_extension": ".py",
   "mimetype": "text/x-python",
   "name": "python",
   "nbconvert_exporter": "python",
   "pygments_lexer": "ipython3",
   "version": "3.11.8"
  }
 },
 "nbformat": 4,
 "nbformat_minor": 2
}
