{
 "cells": [
  {
   "cell_type": "code",
   "execution_count": null,
   "metadata": {},
   "outputs": [],
   "source": [
    "import pandas as pd\n",
    "import re\n"
   ]
  },
  {
   "cell_type": "code",
   "execution_count": null,
   "metadata": {},
   "outputs": [],
   "source": [
    "# Replace 'path_to_your_file.csv' with the actual path to your file\n",
    "file_path = \"grondwater.csv\"\n",
    "encoding = \"ISO-8859-1\"  # Adjust encoding as necessary\n",
    "# Read the file and filter out lines containing <html> or </html>\n",
    "with open(file_path, \"r\",encoding=encoding) as file:\n",
    "    content = file.read()\n",
    "\n",
    "cleaned_content = re.sub(r\"<html>.*?</html>\", \"\", content, flags=re.DOTALL)\n",
    "\n",
    "# Write the cleaned content back to the file\n",
    "with open(\"grondwater_clean.csv\", \"w\", encoding=encoding) as file:\n",
    "    file.write(cleaned_content)\n",
    "\n",
    "print(\"HTML lines removed successfully.\")"
   ]
  },
  {
   "cell_type": "code",
   "execution_count": null,
   "metadata": {},
   "outputs": [],
   "source": [
    "df = pd.read_csv('grondwater_clean.csv', delimiter=\",\", encoding=encoding, skip_blank_lines=True)"
   ]
  },
  {
   "cell_type": "code",
   "execution_count": null,
   "metadata": {},
   "outputs": [],
   "source": [
    "len(list(df['ID']))"
   ]
  },
  {
   "cell_type": "code",
   "execution_count": null,
   "metadata": {},
   "outputs": [],
   "source": [
    "names = list(df['ID'].unique())"
   ]
  },
  {
   "cell_type": "code",
   "execution_count": null,
   "metadata": {},
   "outputs": [],
   "source": [
    "len(names)"
   ]
  },
  {
   "cell_type": "code",
   "execution_count": null,
   "metadata": {},
   "outputs": [],
   "source": [
    "names_split = names[:300] + names[300:700] + names[700:]"
   ]
  },
  {
   "cell_type": "code",
   "execution_count": null,
   "metadata": {},
   "outputs": [],
   "source": [
    "len(names_split)"
   ]
  },
  {
   "cell_type": "code",
   "execution_count": null,
   "metadata": {},
   "outputs": [],
   "source": [
    "text1 = \"\"\n",
    "for name in names[:300]: \n",
    "    text1 += f'\t\t\t<locationId>{name}</locationId>\\n'\n",
    "\n",
    "text2 = \"\"\n",
    "for name in names[300:700]: \n",
    "    text2 += f'\t\t\t<locationId>{name}</locationId>\\n'\n",
    "\n",
    "text3 = \"\"\n",
    "for name in names[700:]: \n",
    "    text3 += f'\t\t\t<locationId>{name}</locationId>\\n'"
   ]
  },
  {
   "cell_type": "code",
   "execution_count": null,
   "metadata": {},
   "outputs": [],
   "source": [
    "print(text3)"
   ]
  },
  {
   "cell_type": "code",
   "execution_count": null,
   "metadata": {},
   "outputs": [],
   "source": [
    "\n",
    "    # Replace 'path_to_your_file.csv' with the actual path to your file\n",
    "    file_path = \"grondwater.csv\"\n",
    "for file_path in [\"grondwater_rerun_validation_1.csv\", \"grondwater_clean.csv\"]:\n",
    "    # Read the file and filter out lines containing <html> or </html>\n",
    "    with open(file_path, \"r\", encoding=\"utf-8\") as file:\n",
    "        content = file.read()\n",
    "\n",
    "    cleaned_content = re.sub(r\"<html>.*?</html>\", \"\", content, flags=re.DOTALL)\n",
    "\n",
    "    # Write the cleaned content back to the file\n",
    "    with open(\"grondwater_clean.csv\", \"w\", encoding=\"utf-8\") as file:\n",
    "        file.write(cleaned_content)\n",
    "\n",
    "    print(\"HTML lines removed successfully.\")"
   ]
  }
 ],
 "metadata": {
  "kernelspec": {
   "display_name": "geo",
   "language": "python",
   "name": "python3"
  },
  "language_info": {
   "codemirror_mode": {
    "name": "ipython",
    "version": 3
   },
   "file_extension": ".py",
   "mimetype": "text/x-python",
   "name": "python",
   "nbconvert_exporter": "python",
   "pygments_lexer": "ipython3",
   "version": "3.12.7"
  }
 },
 "nbformat": 4,
 "nbformat_minor": 2
}
