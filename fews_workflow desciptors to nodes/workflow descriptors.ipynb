{
 "cells": [
  {
   "cell_type": "code",
   "execution_count": 1,
   "metadata": {},
   "outputs": [],
   "source": [
    "import xml.etree.ElementTree as ET"
   ]
  },
  {
   "cell_type": "code",
   "execution_count": 7,
   "metadata": {},
   "outputs": [
    {
     "name": "stdout",
     "output_type": "stream",
     "text": [
      "<workflowId>wf.im.wiwb.knmi.hist</workflowId>\n",
      "<workflowId>wf.im.matroos.rws.hist</workflowId>\n",
      "<workflowId>wf.ex.matroos.rws.hist</workflowId>\n",
      "<workflowId>wf.run.digiflow.model.hist</workflowId>\n",
      "<workflowId>wf.ex.meteo.digiflow.hist</workflowId>\n",
      "<workflowId>wf.process_results.digiflow.model.hist.modflow</workflowId>\n",
      "<workflowId>wf.process_results.digiflow.model.hist.mswap</workflowId>\n",
      "<workflowId>wf.im.wiwb.knmi.pr.fcst</workflowId>\n",
      "<workflowId>wf.im.matroos.rws.fcst</workflowId>\n",
      "<workflowId>wf.ex.matroos.rws.fcst</workflowId>\n",
      "<workflowId>wf.prepreocess.digiflow.fcst</workflowId>\n",
      "<workflowId>wf.run.digiflow.model.fcst</workflowId>\n",
      "<workflowId>wf.ex.meteo.digiflow.fcst</workflowId>\n",
      "<workflowId>wf.process_results.digiflow.model.fcst.modflow</workflowId>\n",
      "<workflowId>wf.process_results.digiflow.model.fcst.mswap</workflowId>\n",
      "<workflowId>wf.purge_digiflow</workflowId>\n",
      "<workflowId>wf.im.peilbuizen.hist</workflowId>\n",
      "<workflowId>wf.im.peilbuizen.statistiek</workflowId>\n",
      "<workflowId>wf.im.maaiveld</workflowId>\n",
      "<workflowId>Import_draagkracht_thresholds</workflowId>\n",
      "<workflowId>Import_landgebruik</workflowId>\n"
     ]
    }
   ],
   "source": [
    "import xml.etree.ElementTree as ET\n",
    "\n",
    "# Open the XML file\n",
    "tree = ET.parse('WorkflowDescriptors.xml')\n",
    "root = tree.getroot()\n",
    "\n",
    "# Process the XML data\n",
    "workflow_ids = []\n",
    "\n",
    "for workflow in root.findall('.//{http://www.wldelft.nl/fews}workflowDescriptor'):\n",
    "    workflow_id = workflow.get('id')\n",
    "    workflow_ids.append(workflow_id)\n",
    "\n",
    "[print(f'<workflowId>{workflow_id}</workflowId>') for workflow_id in workflow_ids];"
   ]
  },
  {
   "cell_type": "code",
   "execution_count": null,
   "metadata": {},
   "outputs": [],
   "source": []
  }
 ],
 "metadata": {
  "kernelspec": {
   "display_name": "Python 3",
   "language": "python",
   "name": "python3"
  },
  "language_info": {
   "codemirror_mode": {
    "name": "ipython",
    "version": 3
   },
   "file_extension": ".py",
   "mimetype": "text/x-python",
   "name": "python",
   "nbconvert_exporter": "python",
   "pygments_lexer": "ipython3",
   "version": "3.11.8"
  }
 },
 "nbformat": 4,
 "nbformat_minor": 2
}
